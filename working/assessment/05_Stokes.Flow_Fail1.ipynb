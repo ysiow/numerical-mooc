{
 "cells": [
  {
   "cell_type": "markdown",
   "metadata": {},
   "source": [
    "# Relax and hold steady"
   ]
  },
  {
   "cell_type": "markdown",
   "metadata": {},
   "source": [
    "## Stokes flow"
   ]
  },
  {
   "cell_type": "markdown",
   "metadata": {},
   "source": [
    "This notebook presents the coding assignment for **Module 5** of the course [*\"Practical Numerical Methods with Python.*](https://github.com/numerical-mooc/numerical-mooc) Your mission is to solve Stokes flow in a square cavity, using the vorticity-streamfunction formulation.\n",
    "Stokes flow, also known as *creeping flow*, refers to flows that are dominated by viscous forces and not by the advective/convective forces.  The Stokes-flow assumption works well for flows that have very low Reynolds number, much smaller than 1: very slow, highly viscous or flows at microscopic length scales.  \n",
    "\n",
    "Stokes flow allows us to simplify the Navier-Stokes equations, eliminating the non-linearity.  Let's run through a quick derivation of the vorticity-transport equation with Stokes-flow assumptions.  "
   ]
  },
  {
   "cell_type": "markdown",
   "metadata": {},
   "source": [
    "### Vorticity"
   ]
  },
  {
   "cell_type": "markdown",
   "metadata": {},
   "source": [
    "We start with the Navier-Stokes equations for incompressible flow:\n",
    "\n",
    "\\begin{equation}\n",
    "\\frac{\\partial u}{\\partial t} + u \\cdot \\nabla u = -\\frac{1}{\\rho}\\nabla p + \\nu\\nabla^2 u\n",
    "\\end{equation}\n",
    "\n",
    "If we scale Equation $(1)$ to make it non-dimensional, we can rewrite it as\n",
    "\n",
    "\\begin{equation}\n",
    "Re \\left(\\frac{\\partial u^*}{\\partial t} + u^* \\cdot \\nabla u^* \\right) = -\\nabla p^* + \\nabla^2 u^*\n",
    "\\end{equation}\n",
    "\n",
    "Where $u^*$ and $p^*$ are the non-dimensional velocity and pressure, respectively.  \n",
    "\n",
    "To obtain Stokes flow, we assume that the Reynolds number approaches zero.  Applying that assumption to Equation $(2)$ and dropping the stars, yields\n",
    "\n",
    "\\begin{equation}\n",
    "0 = - \\nabla p + \\nabla^2 u\n",
    "\\end{equation}\n",
    "\n",
    "That simplified things!  Now, we apply the curl operator on both sides of the equation:\n",
    "\n",
    "\\begin{equation}\n",
    "\\nabla \\times 0 = \\nabla \\times \\left( - \\nabla p + \\nabla^2 u\\right)\n",
    "\\end{equation}\n",
    "\n",
    "The left-hand side remains zero, while the first term on the right-hand side is\n",
    "\n",
    "\\begin{equation}\n",
    "\\nabla \\times - \\nabla p = 0\n",
    "\\end{equation}\n",
    "\n",
    "because $\\nabla \\times \\nabla \\phi = 0$ where $\\phi$ is a scalar.\n",
    "\n",
    "Finally,\n",
    "\n",
    "\\begin{equation}\n",
    "\\nabla \\times \\nabla^2 u =\\nabla^2\\omega\n",
    "\\end{equation}\n",
    "\n",
    "where $\\nabla \\times u = \\omega$ is the vorticity.  \n",
    "\n",
    "Combining all of these equations, we arrive at the simplified vorticity transport equation for Stokes flow:\n",
    "\n",
    "\\begin{equation}\n",
    "\\nabla ^2 \\omega = 0\n",
    "\\end{equation}\n",
    "\n",
    "Look familiar?"
   ]
  },
  {
   "cell_type": "markdown",
   "metadata": {},
   "source": [
    "### Stream function"
   ]
  },
  {
   "cell_type": "markdown",
   "metadata": {},
   "source": [
    "Define the stream function $\\psi$, such that\n",
    "\n",
    "\\begin{equation}\n",
    "u = \\frac{\\partial \\psi}{\\partial y} \\text{   and   } v = - \\frac{\\partial \\psi}{\\partial x}\n",
    "\\end{equation}\n",
    "\n",
    "In 2D, we can write out the vorticity as\n",
    "\n",
    "\\begin{equation}\n",
    "\\omega = \\frac{\\partial v}{\\partial x} - \\frac{\\partial u}{\\partial y}\n",
    "\\end{equation}\n",
    "\n",
    "which, combined with the previous equation yields another familiar looking equation:\n",
    "\n",
    "\\begin{equation}\n",
    "\\nabla^2 \\psi = -\\omega\n",
    "\\end{equation}\n",
    "\n",
    "We have a system of two coupled equations that can describe the fluid flow in a lid-driven cavity at very low Reynolds numbers.  \n",
    "\n",
    "\\begin{equation}\n",
    "\\nabla^2 \\omega = 0\n",
    "\\end{equation}\n",
    "\n",
    "\\begin{equation}\n",
    "\\nabla^2 \\psi = -\\omega\n",
    "\\end{equation}\n",
    "\n",
    "Note that by substituting Equation $(12)$ into $(11)$, we arrive at a new equation: the *biharmonic equation*:\n",
    "\n",
    "\\begin{equation}\n",
    "\\nabla^4 \\psi= 0\n",
    "\\end{equation}"
   ]
  },
  {
   "cell_type": "markdown",
   "metadata": {},
   "source": [
    "### Solving the biharmonic equation"
   ]
  },
  {
   "cell_type": "markdown",
   "metadata": {},
   "source": [
    "Is it possible to discretize a 4th-order partial differential equation?  Of course!  Are we going to?  No!\n",
    "\n",
    "There's nothing wrong with a 4th-order equation, but in this course module we learned about the Poisson equation and that's what we're going to use.  "
   ]
  },
  {
   "cell_type": "markdown",
   "metadata": {},
   "source": [
    "## Cavity flow"
   ]
  },
  {
   "cell_type": "markdown",
   "metadata": {},
   "source": [
    "You will solve a problem called *lid-driven cavity flow*.  This is a common test problem for Navier-Stokes solvers—we'll be using it to examine Stokes flow.  \n",
    "\n",
    "Assume that the lid of a square cavity moves at a constant velocity of $u=1$, with no fluid leaking out past the moving lid. We we want to visualize what the flow field inside the cavity looks like at steady state.  \n",
    "\n",
    "All of the surfaces, including the lid, are assumed to have no-slip boundary conditions.  The boundary conditions are all specified in terms of the streamfunction $\\psi$, as shown below in Figure $(1)$.  "
   ]
  },
  {
   "cell_type": "markdown",
   "metadata": {},
   "source": [
    "<img src=\"./figures/drivencavity.svg\" width=400px>"
   ]
  },
  {
   "cell_type": "markdown",
   "metadata": {},
   "source": [
    "#### Figure 1. Lid-driven Cavity Flow"
   ]
  },
  {
   "cell_type": "markdown",
   "metadata": {},
   "source": [
    "### Boundary conditions"
   ]
  },
  {
   "cell_type": "markdown",
   "metadata": {},
   "source": [
    "One of the major hurdles with the vorticity-streamfunction formulation is the treatment of boundary conditions.  \n",
    "\n",
    "The boundary conditions are all specified in terms of $\\psi$ and its derivatives, but the Laplace equation\n",
    "\n",
    "$$\\nabla \\omega^2 = 0$$\n",
    "\n",
    "has no $\\psi$ value.  Instead, we need a way to represent the boundary conditions for $\\omega$ in terms of $\\psi$.  \n",
    "\n",
    "Consider the equation $\\nabla ^2 \\psi = -\\omega$ along the top surface of the cavity (the moving surface).  There can't be any velocity in the $y$-direction because the surface is solid, so $\\frac{\\partial ^2 \\psi}{\\partial x^2}$ goes to zero and the equation simplifies to\n",
    "\n",
    "\\begin{equation}\n",
    "\\frac{\\partial ^2 \\psi}{\\partial y^2} = -\\omega\n",
    "\\end{equation}"
   ]
  },
  {
   "cell_type": "markdown",
   "metadata": {},
   "source": [
    "A 2nd-order central difference discretization gives\n",
    "\n",
    "\\begin{equation}\n",
    "\\omega_j = - \\left(\\frac{\\psi_{j+1} - 2\\psi_j + \\psi_{j-1}}{\\Delta y^2}\\right)\n",
    "\\end{equation}\n",
    "\n",
    "but the value $\\psi_{j+1}$ is outside of the domain.  Now take a 3rd-order discretization of $\\frac{\\partial \\psi}{\\partial y}$ evaluated along the top edge.\n",
    "\n",
    "\\begin{equation}\n",
    "\\left.\\frac{\\partial \\psi}{\\partial y}\\right|_j = \\frac{2\\psi_{j+1} + 3\\psi_j - 6\\psi_{j-1} + \\psi_{j-2}}{6 \\Delta y}\n",
    "\\end{equation}\n",
    "\n",
    "$\\frac{\\partial \\psi}{\\partial y}$ is a given boundary value in the problem along the top edge\n",
    "\n",
    "\\begin{equation}\n",
    "\\left.\\frac{\\partial \\psi}{\\partial y}\\right|_j = u_j\n",
    "\\end{equation}\n",
    "\n",
    "which leaves us with a value for $\\psi_{j+1}$ that consists only of points within the domain.  \n",
    "\n",
    "\\begin{equation}\n",
    "\\psi_{j+1} = \\frac{6\\Delta y u_j - 3\\psi_j + 6 \\psi_{j-1} - \\psi_{j-2}}{2}\n",
    "\\end{equation}\n",
    "\n",
    "Plug in that result into the initial discretization from Equation $(16)$ and we have a boundary condition for $\\omega$ along the top surface in terms of $\\psi$:\n",
    "\n",
    "\\begin{equation}\n",
    "\\omega_{i,j} = -\\frac{1}{2 \\Delta y^2} (8\\psi_{i, j-1} - \\psi_{i, j-2}) - \\frac{3u_j}{\\Delta y} + \\mathcal{O}(\\Delta y^2)\n",
    "\\end{equation}"
   ]
  },
  {
   "cell_type": "markdown",
   "metadata": {},
   "source": [
    "### Coding assignment"
   ]
  },
  {
   "cell_type": "markdown",
   "metadata": {},
   "source": [
    "Solve Stokes flow in a lid-driven cavity using the parameters given below.  \n",
    "\n",
    "You should iteratively solve for both $\\omega$ and $\\psi$ until the L1 norm of the difference between successive iterations is less than $1$$\\tt{E}$$^-6$ for **both** quantities.  "
   ]
  },
  {
   "cell_type": "markdown",
   "metadata": {},
   "source": [
    "# **The following fail because $\\omega$ and $\\psi$ are solved in a uncoupled way** \n",
    "# **i.e. not solve simultaneously in each iteration**\n",
    "# No convergence"
   ]
  },
  {
   "cell_type": "code",
   "execution_count": 1,
   "metadata": {
    "collapsed": true
   },
   "outputs": [],
   "source": [
    "from matplotlib import pyplot\n",
    "import numpy\n",
    "%matplotlib inline\n",
    "from matplotlib import rcParams, cm\n",
    "rcParams['font.family'] = 'serif'\n",
    "rcParams['font.size'] = 16"
   ]
  },
  {
   "cell_type": "code",
   "execution_count": 2,
   "metadata": {
    "collapsed": true
   },
   "outputs": [],
   "source": [
    "def L1norm(new, old):\n",
    "    norm = numpy.sum(numpy.abs(new-old))\n",
    "    return norm"
   ]
  },
  {
   "cell_type": "code",
   "execution_count": 3,
   "metadata": {
    "collapsed": true
   },
   "outputs": [],
   "source": [
    "def vorticity_jcb(omega, l1_target, psi):\n",
    "    '''Iteratively solves the Laplace equation using the Jacobi method\n",
    "    \n",
    "    Parameters:\n",
    "    ----------\n",
    "    omega: 2D array of float\n",
    "        Initial vorticity distribution\n",
    "    l1_target: float\n",
    "        target for the difference between consecutive solutions\n",
    "    psi: 2D array of float\n",
    "        Current streamfunction distribution\n",
    "        \n",
    "    Returns:\n",
    "    -------\n",
    "    omega: 2D array of float\n",
    "        Vorticity distribution after relaxation\n",
    "    '''\n",
    "    \n",
    "    omega_norm = 1\n",
    "    iterations = 0\n",
    "    \n",
    "    while omega_norm > l1_target:\n",
    "        \n",
    "        omegak = omega.copy()\n",
    "        \n",
    "        ##Neumann B.C. for omega\n",
    "        ##along y = h\n",
    "        omega[-1,:] = -0.5*(8*psi[-2,:]-psi[-3,:])/dy**2 - 3*1./dy\n",
    "        ##along x = l\n",
    "        omega[:,-1] = -0.5*(8*psi[:,-2]-psi[:,-3])/dx**2 - 3*0./dx\n",
    "        ##along y = 0\n",
    "        omega[0,:] = -0.5*(8*psi[1,:]-psi[2,:])/dy**2 - 3*0./dy\n",
    "        ##along x = 0\n",
    "        omega[:,0] = -0.5*(8*psi[:,1]-psi[:,2])/dx**2 - 3*0./dx\n",
    "\n",
    "        omega[1:-1,1:-1] = .25 * (omegak[1:-1,2:] + omegak[1:-1,:-2] +\\\n",
    "                                  omegak[2:,1:-1] + omegak[:-2,1:-1])\n",
    "           \n",
    "        omega_norm = L1norm(omega, omegak)\n",
    "        iterations += 1\n",
    "        \n",
    "    print (\"Jacobi method took {} iterations at tolerance {}\".\\\n",
    "        format(iterations, l1_target))\n",
    " \n",
    "    return omega"
   ]
  },
  {
   "cell_type": "code",
   "execution_count": 4,
   "metadata": {
    "collapsed": true
   },
   "outputs": [],
   "source": [
    "def stokes_flow_cg(psi, omega, dx, dy, l1_target):\n",
    "    '''Performs cg relaxation on psi\n",
    "    \n",
    "    Parameters:\n",
    "    ----------\n",
    "    psi : 2D array of floats\n",
    "        Initial guess\n",
    "    omega  : 2D array of floats\n",
    "        Initial vorticity\n",
    "    dx  : float\n",
    "        Mesh spacing in x direction\n",
    "    dy  : float\n",
    "        Mesh spacing in y direction\n",
    "    l1_target: float\n",
    "        exit criterion\n",
    "        \n",
    "    Returns:\n",
    "    -------\n",
    "    psi: 2D array of float\n",
    "        Distribution after relaxation\n",
    "        omega: 2D array of float\n",
    "        Vorticity distribution after relaxation\n",
    "    '''\n",
    "\n",
    "    omega_norm = 1\n",
    "    psi_norm = 1\n",
    "    iterations = 0\n",
    "    \n",
    "    ny, nx = psi.shape\n",
    "    r  = numpy.zeros((ny,nx))    # the initial residual and \n",
    "    d, alpha = r.copy(), r.copy() # the first search direction is just this residual\n",
    "    rho = numpy.ones((ny,nx)) # set it to 1 to prevent divided by 0\n",
    "    Ad  = numpy.zeros((ny,nx)) # to store result of matrix multiplication \n",
    "\n",
    "    # Iterations\n",
    "    #while omega_norm > l1_target or psi_norm > l1_target:\n",
    "    #while psi_norm > l1_target:\n",
    "    while iterations <25:    \n",
    "        #omegak = omega.copy()\n",
    "        psik = psi.copy()\n",
    "        \n",
    "        r = r- alpha*Ad\n",
    "        rhop1 = numpy.sum(r*r)\n",
    "        beta = rhop1 / rho\n",
    "        \n",
    "        ##Neumann B.C. for omega\n",
    "        ##along y = h\n",
    "        #omega[-1,:] = -0.5*(8*psi[-2,:]-psi[-3,:])/dy**2 - 3*1./dy\n",
    "        ##along x = l\n",
    "        #omega[:,-1] = -0.5*(8*psi[:,-2]-psi[:,-3])/dx**2 - 3*0./dx\n",
    "        ##along y = 0\n",
    "        #omega[0,:] = -0.5*(8*psi[1,:]-psi[2,:])/dy**2 - 3*0./dy\n",
    "        ##along x = 0\n",
    "        #omega[:,0] = -0.5*(8*psi[:,1]-psi[:,2])/dx**2 - 3*0./dx\n",
    "\n",
    "        ##Dirichlet B.C. for psi are automatically enforced \n",
    "        ##based on initial conditions\n",
    "        \n",
    "        #omega[1:-1,1:-1] = .25 * (omegak[1:-1,2:] + omegak[1:-1,:-2] +\\\n",
    "        #                          omegak[2:,1:-1] + omegak[:-2,1:-1])        \n",
    "        \n",
    "        omega = vorticity_jcb(omega, l1_target, psi)\n",
    "        \n",
    "        b = -1*omega\n",
    "        r[1:-1,1:-1] = b[1:-1,1:-1]*dx**2 + 4*psi[1:-1,1:-1] - \\\n",
    "            psi[1:-1,2:] - psi[1:-1,:-2] - psi[2:, 1:-1] - psi[:-2, 1:-1]\n",
    "        d = r + beta*d\n",
    "        Ad[1:-1,1:-1] = -4*d[1:-1,1:-1] + d[1:-1,2:] + d[1:-1,:-2] + \\\n",
    "            d[2:, 1:-1] + d[:-2, 1:-1]\n",
    "        rho = numpy.sum(r*r)\n",
    "        sigma = numpy.sum(d*Ad)\n",
    "        \n",
    "        alpha = rho/sigma\n",
    "        psi = psik + alpha*d\n",
    "        \n",
    "        #omega_norm = L1norm(omega, omegak)        \n",
    "        psi_norm = L1norm(psi, psik)\n",
    "        iterations += 1\n",
    "\n",
    "    #print(omega_norm, psi_norm)  \n",
    "        print(psi_norm)\n",
    "    print('Number of CG iterations: {0:d}'.format(iterations))\n",
    "    return psi, omega"
   ]
  },
  {
   "cell_type": "code",
   "execution_count": 5,
   "metadata": {
    "collapsed": false
   },
   "outputs": [
    {
     "name": "stdout",
     "output_type": "stream",
     "text": [
      "Jacobi method took 5970 iterations at tolerance 1e-06\n",
      "160.659875236\n",
      "Jacobi method took 6925 iterations at tolerance 1e-06\n",
      "2222.65891257\n",
      "Jacobi method took 7890 iterations at tolerance 1e-06\n",
      "48782.0573816\n",
      "Jacobi method took 8877 iterations at tolerance 1e-06\n",
      "989431.627972\n",
      "Jacobi method took 9848 iterations at tolerance 1e-06\n",
      "19554973.9142\n",
      "Jacobi method took 10581 iterations at tolerance 1e-06\n",
      "308949313.947\n",
      "Jacobi method took 10720 iterations at tolerance 1e-06\n",
      "3050854630.14\n",
      "Jacobi method took 10771 iterations at tolerance 1e-06\n",
      "7938767614.45\n",
      "Jacobi method took 10868 iterations at tolerance 1e-06\n",
      "26505080519.4\n",
      "Jacobi method took 10645 iterations at tolerance 1e-06\n",
      "103764101763.0\n",
      "Jacobi method took 10883 iterations at tolerance 1e-06\n",
      "247109681309.0\n",
      "Jacobi method took 10574 iterations at tolerance 1e-06\n",
      "381044935263.0\n",
      "Jacobi method took 11068 iterations at tolerance 1e-06\n",
      "1.50702815382e+12\n",
      "Jacobi method took 9816 iterations at tolerance 1e-06\n",
      "5.53112297799e+12\n",
      "Jacobi method took 10705 iterations at tolerance 1e-06\n",
      "1.20904124914e+13\n",
      "Jacobi method took 11022 iterations at tolerance 1e-06\n",
      "3.36164866984e+13\n",
      "Jacobi method took 10856 iterations at tolerance 1e-06\n",
      "8.05100616018e+13\n",
      "Jacobi method took 10872 iterations at tolerance 1e-06\n",
      "1.05230544151e+14\n",
      "Jacobi method took 10524 iterations at tolerance 1e-06\n",
      "1.04113750187e+14\n",
      "Jacobi method took 11223 iterations at tolerance 1e-06\n",
      "1.70795169327e+14\n",
      "Jacobi method took 10514 iterations at tolerance 1e-06\n",
      "1.98583993795e+14\n",
      "Jacobi method took 10599 iterations at tolerance 1e-06\n",
      "1.90026353868e+14\n",
      "Jacobi method took 10763 iterations at tolerance 1e-06\n",
      "4.96210633482e+14\n",
      "Jacobi method took 11338 iterations at tolerance 1e-06\n",
      "6.98382754699e+14\n",
      "Jacobi method took 10666 iterations at tolerance 1e-06\n",
      "3.35930519983e+14\n",
      "Number of CG iterations: 25\n"
     ]
    }
   ],
   "source": [
    "##variable declarations\n",
    "nx = 41\n",
    "ny = 41\n",
    "\n",
    "l = 1.\n",
    "h = 1.\n",
    "\n",
    "dx = l/(nx-1)\n",
    "dy = h/(ny-1)\n",
    "\n",
    "l1_target = 1e-6\n",
    "\n",
    "##initial conditions\n",
    "psi_i  = numpy.zeros((ny,nx))\n",
    "omega_i = numpy.ones((ny,nx)) ##create a XxY vector of 0's\n",
    "\n",
    "psi, omega = stokes_flow_cg(psi_i.copy(), omega_i.copy(), dx, dy, l1_target)"
   ]
  },
  {
   "cell_type": "code",
   "execution_count": 6,
   "metadata": {
    "collapsed": false
   },
   "outputs": [
    {
     "data": {
      "text/plain": [
       "<matplotlib.contour.QuadContourSet at 0x77934e0>"
      ]
     },
     "execution_count": 6,
     "metadata": {},
     "output_type": "execute_result"
    },
    {
     "data": {
      "image/png": "[encoded data removed]",
      "text/plain": [
       "<matplotlib.figure.Figure at 0x75dd780>"
      ]
     },
     "metadata": {},
     "output_type": "display_data"
    }
   ],
   "source": [
    "##plotting aids\n",
    "x = numpy.linspace(0,l,nx)\n",
    "y = numpy.linspace(0,h,ny)\n",
    "\n",
    "pyplot.figure(figsize=(8,8))\n",
    "pyplot.contourf(x,y,psi,11,cmap=cm.viridis)"
   ]
  },
  {
   "cell_type": "code",
   "execution_count": 7,
   "metadata": {
    "collapsed": false
   },
   "outputs": [
    {
     "name": "stdout",
     "output_type": "stream",
     "text": [
      "7.09480040202e+12\n",
      "8.6980032951e+14\n",
      "[  0.00000000e+00  -2.86523440e+12  -5.67041690e+12  -5.67041690e+12\n",
      "  -2.86523440e+12   0.00000000e+00]\n"
     ]
    }
   ],
   "source": [
    "print (numpy.max(numpy.abs(psi)))\n",
    "print (numpy.max(numpy.abs(omega)))\n",
    "print (numpy.round(psi[32,::8], 4))"
   ]
  },
  {
   "cell_type": "markdown",
   "metadata": {},
   "source": [
    "The final result should resemble the plot shown in Figure $(2)$."
   ]
  },
  {
   "cell_type": "markdown",
   "metadata": {},
   "source": [
    "##### Hint"
   ]
  },
  {
   "cell_type": "markdown",
   "metadata": {},
   "source": [
    "The boundary conditions for $\\omega$ depend upon the current value of $\\psi$.  The two equations are *coupled*.  If you try to solve them in a *uncoupled* way, things will go poorly.  "
   ]
  },
  {
   "cell_type": "markdown",
   "metadata": {},
   "source": [
    "<img src=\"./figures/stokes_contour.svg\">"
   ]
  },
  {
   "cell_type": "markdown",
   "metadata": {},
   "source": [
    "#### Figure 2.  Contour plot of streamfunction at steady state"
   ]
  },
  {
   "cell_type": "markdown",
   "metadata": {},
   "source": [
    "### References"
   ]
  },
  {
   "cell_type": "markdown",
   "metadata": {},
   "source": [
    "*  Fletcher, C. A. (1988). Computational Techniques for Fluid Dynamics: Volume 2: Specific Techniques for Different Flow Categories.\n",
    "\n",
    "*  Ghia, U. K. N. G., Ghia, K. N., & Shin, C. T. (1982). High-Re solutions for incompressible flow using the Navier-Stokes equations and a multigrid method. Journal of computational physics, 48(3), 387-411.\n",
    "\n",
    "* Greenspan, D. (1974). Discrete numerical methods in physics and engineering (Vol. 312). New York: Academic Press.\n",
    "\n",
    "* Heil, Matthias (Year unknown).  [Viscous Fluid Flow Vorticity Handout (pdf)](http://www.maths.manchester.ac.uk/~mheil/Lectures/Fluids/Material/Vorticity.pdf)\n",
    "\n",
    "* Non-dimensionalization and scaling of the Navier Stokes equations.  (n.d.). In *Wikipedia*.  Retrieved January 30, 2015 [http://en.wikipedia.org/w/index.php?title=Non-dimensionalization_and_scaling_of_the_Navier-Stokes_equations](http://en.wikipedia.org/w/index.php?title=Non-dimensionalization_and_scaling_of_the_Navier%E2%80%93Stokes_equations&oldid=641860920)"
   ]
  },
  {
   "cell_type": "code",
   "execution_count": 8,
   "metadata": {
    "collapsed": false
   },
   "outputs": [
    {
     "data": {
      "text/html": [
       "<link href='http://fonts.googleapis.com/css?family=Alegreya+Sans:100,300,400,500,700,800,900,100italic,300italic,400italic,500italic,700italic,800italic,900italic' rel='stylesheet' type='text/css'>\n",
       "<link href='http://fonts.googleapis.com/css?family=Arvo:400,700,400italic' rel='stylesheet' type='text/css'>\n",
       "<link href='http://fonts.googleapis.com/css?family=PT+Mono' rel='stylesheet' type='text/css'>\n",
       "<link href='http://fonts.googleapis.com/css?family=Shadows+Into+Light' rel='stylesheet' type='text/css'>\n",
       "<link href='http://fonts.googleapis.com/css?family=Nixie+One' rel='stylesheet' type='text/css'>\n",
       "<link href='https://fonts.googleapis.com/css?family=Source+Code+Pro' rel='stylesheet' type='text/css'>\n",
       "<style>\n",
       "\n",
       "@font-face {\n",
       "    font-family: \"Computer Modern\";\n",
       "    src: url('http://mirrors.ctan.org/fonts/cm-unicode/fonts/otf/cmunss.otf');\n",
       "}\n",
       "\n",
       "#notebook_panel { /* main background */\n",
       "    background: rgb(245,245,245);\n",
       "}\n",
       "\n",
       "div.cell { /* set cell width */\n",
       "    width: 750px;\n",
       "}\n",
       "\n",
       "div #notebook { /* centre the content */\n",
       "    background: #fff; /* white background for content */\n",
       "    width: 1000px;\n",
       "    margin: auto;\n",
       "    padding-left: 0em;\n",
       "}\n",
       "\n",
       "#notebook li { /* More space between bullet points */\n",
       "    margin-top:0.8em;\n",
       "}\n",
       "\n",
       "/* draw border around running cells */\n",
       "div.cell.border-box-sizing.code_cell.running { \n",
       "    border: 1px solid #111;\n",
       "}\n",
       "\n",
       "/* Put a solid color box around each cell and its output, visually linking them*/\n",
       "div.cell.code_cell {\n",
       "    background-color: rgb(256,256,256); \n",
       "    border-radius: 0px; \n",
       "    padding: 0.5em;\n",
       "    margin-left:1em;\n",
       "    margin-top: 1em;\n",
       "}\n",
       "\n",
       "div.text_cell_render{\n",
       "    font-family: 'Alegreya Sans' sans-serif;\n",
       "    line-height: 140%;\n",
       "    font-size: 125%;\n",
       "    font-weight: 400;\n",
       "    width:600px;\n",
       "    margin-left:auto;\n",
       "    margin-right:auto;\n",
       "}\n",
       "\n",
       "\n",
       "/* Formatting for header cells */\n",
       ".text_cell_render h1 {\n",
       "    font-family: 'Nixie One', serif;\n",
       "    font-style:regular;\n",
       "    font-weight: 400;    \n",
       "    font-size: 45pt;\n",
       "    line-height: 100%;\n",
       "    color: rgb(0,51,102);\n",
       "    margin-bottom: 0.5em;\n",
       "    margin-top: 0.5em;\n",
       "    display: block;\n",
       "}\n",
       "\n",
       ".text_cell_render h2 {\n",
       "    font-family: 'Nixie One', serif;\n",
       "    font-weight: 400;\n",
       "    font-size: 30pt;\n",
       "    line-height: 100%;\n",
       "    color: rgb(0,51,102);\n",
       "    margin-bottom: 0.1em;\n",
       "    margin-top: 0.3em;\n",
       "    display: block;\n",
       "}\t\n",
       "\n",
       ".text_cell_render h3 {\n",
       "    font-family: 'Nixie One', serif;\n",
       "    margin-top:16px;\n",
       "    font-size: 22pt;\n",
       "    font-weight: 600;\n",
       "    margin-bottom: 3px;\n",
       "    font-style: regular;\n",
       "    color: rgb(102,102,0);\n",
       "}\n",
       "\n",
       ".text_cell_render h4 {    /*Use this for captions*/\n",
       "    font-family: 'Nixie One', serif;\n",
       "    font-size: 14pt;\n",
       "    text-align: center;\n",
       "    margin-top: 0em;\n",
       "    margin-bottom: 2em;\n",
       "    font-style: regular;\n",
       "}\n",
       "\n",
       ".text_cell_render h5 {  /*Use this for small titles*/\n",
       "    font-family: 'Nixie One', sans-serif;\n",
       "    font-weight: 400;\n",
       "    font-size: 16pt;\n",
       "    color: rgb(163,0,0);\n",
       "    font-style: italic;\n",
       "    margin-bottom: .1em;\n",
       "    margin-top: 0.8em;\n",
       "    display: block;\n",
       "}\n",
       "\n",
       ".text_cell_render h6 { /*use this for copyright note*/\n",
       "    font-family: 'PT Mono', sans-serif;\n",
       "    font-weight: 300;\n",
       "    font-size: 9pt;\n",
       "    line-height: 100%;\n",
       "    color: grey;\n",
       "    margin-bottom: 1px;\n",
       "    margin-top: 1px;\n",
       "}\n",
       "\n",
       ".CodeMirror{\n",
       "    font-family: \"Source Code Pro\";\n",
       "    font-size: 90%;\n",
       "}\n",
       "\n",
       ".alert-box {\n",
       "    padding:10px 10px 10px 36px;\n",
       "    margin:5px;\n",
       "}\n",
       "\n",
       ".success {\n",
       "    color:#666600;\n",
       "    background:rgb(240,242,229);\n",
       "}\n",
       "</style>\n",
       "<script>\n",
       "    MathJax.Hub.Config({\n",
       "                        TeX: {\n",
       "                           extensions: [\"AMSmath.js\"],\n",
       "                           equationNumbers: { autoNumber: \"AMS\", useLabelIds: true}\n",
       "                           },\n",
       "                tex2jax: {\n",
       "                    inlineMath: [ ['$','$'], [\"\\\\(\",\"\\\\)\"] ],\n",
       "                    displayMath: [ ['$$','$$'], [\"\\\\[\",\"\\\\]\"] ]\n",
       "                },\n",
       "                displayAlign: 'center', // Change this to 'center' to center equations.\n",
       "                \"HTML-CSS\": {\n",
       "                    styles: {'.MathJax_Display': {\"margin\": 4}}\n",
       "                }\n",
       "        });\n",
       "</script>\n"
      ],
      "text/plain": [
       "<IPython.core.display.HTML object>"
      ]
     },
     "execution_count": 8,
     "metadata": {},
     "output_type": "execute_result"
    }
   ],
   "source": [
    "from IPython.core.display import HTML\n",
    "css_file = '../../styles/numericalmoocstyle.css'\n",
    "HTML(open(css_file, \"r\").read())"
   ]
  }
 ],
 "metadata": {
  "kernelspec": {
   "display_name": "Python 3",
   "language": "python",
   "name": "python3"
  },
  "language_info": {
   "codemirror_mode": {
    "name": "ipython",
    "version": 3
   },
   "file_extension": ".py",
   "mimetype": "text/x-python",
   "name": "python",
   "nbconvert_exporter": "python",
   "pygments_lexer": "ipython3",
   "version": "3.5.1"
  }
 },
 "nbformat": 4,
 "nbformat_minor": 0
}
